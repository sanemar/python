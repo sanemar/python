{
  "nbformat": 4,
  "nbformat_minor": 0,
  "metadata": {
    "colab": {
      "provenance": [],
      "authorship_tag": "ABX9TyPNz2Q3j/4OE71GMOyQOwJm",
      "include_colab_link": true
    },
    "kernelspec": {
      "name": "python3",
      "display_name": "Python 3"
    },
    "language_info": {
      "name": "python"
    }
  },
  "cells": [
    {
      "cell_type": "markdown",
      "metadata": {
        "id": "view-in-github",
        "colab_type": "text"
      },
      "source": [
        "<a href=\"https://colab.research.google.com/github/sanemar/python/blob/main/Desafios_Extra.ipynb\" target=\"_parent\"><img src=\"https://colab.research.google.com/assets/colab-badge.svg\" alt=\"Open In Colab\"/></a>"
      ]
    },
    {
      "cell_type": "markdown",
      "source": [
        "Desafios Extras"
      ],
      "metadata": {
        "id": "Vt3t0TD7xr4i"
      }
    },
    {
      "cell_type": "markdown",
      "source": [
        "1 - Faça um programa que escreva o seu nome completo em python"
      ],
      "metadata": {
        "id": "O-y7AmXhxzbR"
      }
    },
    {
      "cell_type": "code",
      "source": [
        "nome = input('Digite seu primeiro nome: ')\n",
        "sobrenome = input('Digite seu último nome: ')\n",
        "print('O meu nome completo é:', nome + \" \" + sobrenome)"
      ],
      "metadata": {
        "colab": {
          "base_uri": "https://localhost:8080/"
        },
        "id": "69Zv9VJUx8EQ",
        "outputId": "061fdaf2-4306-40bb-e40c-8730bf295f27"
      },
      "execution_count": 1,
      "outputs": [
        {
          "output_type": "stream",
          "name": "stdout",
          "text": [
            "Digite seu primeiro nome: Rosane\n",
            "Digite seu último nome: Marchand\n",
            "O meu nome completo é: Rosane Marchand\n"
          ]
        }
      ]
    },
    {
      "cell_type": "markdown",
      "source": [
        "2 - Qual é o tipo de dado (int ou float) do resultado de cada uma das operações matemáticas abaixo?\n",
        "a. 8 ÷ 4 + 2 × 3\n",
        "b. 15 - 4 × 2 + 10\n",
        "c. (10 - 3) × (5 + 2)\n",
        "d. 100 ÷ (5 + 5)\n",
        "e. 23 + 4\n",
        "f. 7 + 3 × (10 ÷ 2)\n",
        "g. (8 + 2) × 3 - 5\n",
        "h. 50 ÷ 5 + √16\n",
        "i. 5 + √25 × 2 - 3\n",
        "j. 20 - 4 × (√9 + 1)"
      ],
      "metadata": {
        "id": "-tPNX8i9x8tY"
      }
    },
    {
      "cell_type": "code",
      "source": [
        "lista_resultado = []\n",
        "\n",
        "for i in range(9):\n",
        "    if i == 0:\n",
        "        resultado = 8 / 4 + 2 * 3\n",
        "    elif i == 1:\n",
        "        resultado = 15 - 4 * 2 + 10\n",
        "    elif i == 2:\n",
        "        resultado = (10 - 3) * (5 + 2)\n",
        "    elif i == 3:\n",
        "        resultado = 100 / (5 + 5)\n",
        "    elif i == 4:\n",
        "        resultado = 2**3 + 4\n",
        "    elif i == 5:\n",
        "        resultado = 7 + 3 * (10 / 2)\n",
        "    elif i == 6:\n",
        "        resultado = 50 / 5 + 4\n",
        "    elif i == 7:\n",
        "        resultado = 5 + 5 * 2 - 3\n",
        "    elif i == 8:\n",
        "        resultado = 20 - 4 * (3 + 1)\n",
        "\n",
        "    lista_resultado.append(resultado)\n",
        "\n",
        "for resultado in lista_resultado:\n",
        "    if type(resultado) == int:\n",
        "        print(\"O resultado é um inteiro.\")\n",
        "    if type(resultado) == float:\n",
        "        print(\"O resultado é um float.\")\n",
        "\n",
        "print(lista_resultado)"
      ],
      "metadata": {
        "colab": {
          "base_uri": "https://localhost:8080/"
        },
        "id": "DDEkS7ddyIj3",
        "outputId": "370bfbce-7e0a-4344-9aec-f077b94b8d49"
      },
      "execution_count": 2,
      "outputs": [
        {
          "output_type": "stream",
          "name": "stdout",
          "text": [
            "O resultado é um float.\n",
            "O resultado é um inteiro.\n",
            "O resultado é um inteiro.\n",
            "O resultado é um float.\n",
            "O resultado é um inteiro.\n",
            "O resultado é um float.\n",
            "O resultado é um float.\n",
            "O resultado é um inteiro.\n",
            "O resultado é um inteiro.\n",
            "[8.0, 17, 49, 10.0, 12, 22.0, 14.0, 12, 4]\n"
          ]
        }
      ]
    },
    {
      "cell_type": "markdown",
      "source": [
        "3 - Qual é o resultado das expressões do exercício 2 quando executadas no Python?"
      ],
      "metadata": {
        "id": "okky-Pm_yJKC"
      }
    },
    {
      "cell_type": "code",
      "source": [
        "lista_resultado = []\n",
        "\n",
        "for i in range(9):\n",
        "    if i == 0:\n",
        "        resultado = 8 / 4 + 2 * 3\n",
        "    elif i == 1:\n",
        "        resultado = 15 - 4 * 2 + 10\n",
        "    elif i == 2:\n",
        "        resultado = (10 - 3) * (5 + 2)\n",
        "    elif i == 3:\n",
        "        resultado = 100 / (5 + 5)\n",
        "    elif i == 4:\n",
        "        resultado = 2**3 + 4\n",
        "    elif i == 5:\n",
        "        resultado = 7 + 3 * (10 / 2)\n",
        "    elif i == 6:\n",
        "        resultado = 50 / 5 + 4\n",
        "    elif i == 7:\n",
        "        resultado = 5 + 5 * 2 - 3\n",
        "    elif i == 8:\n",
        "        resultado = 20 - 4 * (3 + 1)\n",
        "    lista_resultado.append(resultado)\n",
        "\n",
        "print(lista_resultado)"
      ],
      "metadata": {
        "colab": {
          "base_uri": "https://localhost:8080/"
        },
        "id": "tNmu1fs8yN2p",
        "outputId": "dd5d1a7b-d395-4b56-ade0-c846878b0746"
      },
      "execution_count": 3,
      "outputs": [
        {
          "output_type": "stream",
          "name": "stdout",
          "text": [
            "[8.0, 17, 49, 10.0, 12, 22.0, 14.0, 12, 4]\n"
          ]
        }
      ]
    },
    {
      "cell_type": "markdown",
      "source": [
        "4 - Crie três variáveis para armazenar as seguintes informações: seu nome, sua idade e seu hobby favorito. Use f-strings para criar uma mensagem que inclua as três variáveis e imprima a mensagem no console."
      ],
      "metadata": {
        "id": "fCPr91U7yOPh"
      }
    },
    {
      "cell_type": "code",
      "source": [
        "nome = 'Rosane Marchand'\n",
        "idade = 49\n",
        "hobby = 'Bodyboard'\n",
        "\n",
        "print(f'Meu nome é {nome}, tenho {idade} anos e meu hobby favorito é {hobby}.')"
      ],
      "metadata": {
        "colab": {
          "base_uri": "https://localhost:8080/"
        },
        "id": "t14KEcebyRnA",
        "outputId": "24413b3f-4771-49d8-9904-8b260c82e9d7"
      },
      "execution_count": 4,
      "outputs": [
        {
          "output_type": "stream",
          "name": "stdout",
          "text": [
            "Meu nome é Rosane Marchand, tenho 49 anos e meu hobby favorito é Bodyboard.\n"
          ]
        }
      ]
    },
    {
      "cell_type": "markdown",
      "source": [
        "5 - Você está trabalhando em um sistema para calcular o salário de um funcionário baseado em algumas variáveis, como o salário base, o bônus e os descontos. O código foi feito por outra pessoa e está apresentando um erro. Execute o código, identifique o erro e corrija-o. Justifique a sua correção com um comentário # acima do que foi corrigido."
      ],
      "metadata": {
        "id": "IZxcNkuUySB4"
      }
    },
    {
      "cell_type": "code",
      "source": [
        "salario_base = 3500.00\n",
        "bonus = 500.00\n",
        "descontos = 300.00\n",
        "\n",
        "salario_liquido = salario_base + bonus - descontos ##O nome da variável declarda deve ser idêntica à variável usada no cálculo, pois o python é case sensitive\n",
        "\n",
        "print(f\"O salário liquido é {salario_liquido}\")"
      ],
      "metadata": {
        "id": "dV8Us2c8yWRI"
      },
      "execution_count": null,
      "outputs": []
    },
    {
      "cell_type": "markdown",
      "source": [
        "6 - Suponha que uma empresa tem um código de produto no formato PROD-XXXX, onde XXXX são dígitos de 0 a 9, e ela deseja verificar se os códigos segue o formato correto. Por exemplo, PROD-1234 é válido, mas prod-1234 e PROD1234 não são. Faça um programa que retorne se o código prod0000 é válido ou não, justificando sua resposta."
      ],
      "metadata": {
        "id": "YT6f3hGgyWuh"
      }
    },
    {
      "cell_type": "code",
      "source": [
        "codigo_produto_valido = 'PROD-1234'\n",
        "codigo_produto = 'prod0000'\n",
        "if codigo_produto == codigo_produto_valido.split('-')[0] and codigo_produto_valido.split('-')[1].isdigit():\n",
        "    print('Código válido')\n",
        "else:\n",
        "    print('Código inválido')\n",
        "    print('O código deve começar com PROD em maiúsculo e conter 4 dígitos numéricos após o hífen.')"
      ],
      "metadata": {
        "colab": {
          "base_uri": "https://localhost:8080/"
        },
        "id": "_6N7EdY_yaRo",
        "outputId": "9dd7e88a-6ea7-44be-c7f5-ab96aaf9502e"
      },
      "execution_count": 5,
      "outputs": [
        {
          "output_type": "stream",
          "name": "stdout",
          "text": [
            "Código inválido\n",
            "O código deve começar com PROD em maiúsculo e conter 4 dígitos numéricos após o hífen.\n"
          ]
        }
      ]
    },
    {
      "cell_type": "markdown",
      "source": [
        "7 - Você trabalha para o Detran/SP e recebeu uma tarefa de separar as partes (letras e números) de uma determinada placa de veículo no modelo antigo. Faça um código que automatize essa separação. Use a placa ABC-1234 como exemplo."
      ],
      "metadata": {
        "id": "ug2djNNSyawn"
      }
    },
    {
      "cell_type": "code",
      "source": [
        "placa = 'ABC-1234'\n",
        "\n",
        "letras, digitos = placa.split('-')\n",
        "print('Letras:', letras)\n",
        "print('Números:', digitos)\n"
      ],
      "metadata": {
        "colab": {
          "base_uri": "https://localhost:8080/"
        },
        "id": "MO2qHzwOyd3Q",
        "outputId": "01746d5f-169f-4452-8480-e1f7f089925d"
      },
      "execution_count": 12,
      "outputs": [
        {
          "output_type": "stream",
          "name": "stdout",
          "text": [
            "Letras: ABC\n",
            "Números: 1234\n"
          ]
        }
      ]
    }
  ]
}